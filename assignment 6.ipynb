{
  "nbformat": 4,
  "nbformat_minor": 0,
  "metadata": {
    "colab": {
      "name": "Saurabh Kumar - numpy-assignment-6.ipynb",
      "provenance": [],
      "collapsed_sections": []
    },
    "kernelspec": {
      "name": "python3",
      "display_name": "Python 3"
    }
  },
  "cells": [
    {
      "cell_type": "code",
      "metadata": {
        "id": "6PAefYSKHONH",
        "colab_type": "code",
        "colab": {}
      },
      "source": [
        "# You have write a function which takes 2 numpy array as input and returns \"Hoga\" or \"Nahi Hoga\" \n",
        "# depending on if broadcasting is possible on those two arrays"
      ],
      "execution_count": 0,
      "outputs": []
    },
    {
      "cell_type": "code",
      "metadata": {
        "id": "LtPSvg-4HjEv",
        "colab_type": "code",
        "colab": {}
      },
      "source": [
        "# Write your logic here\n",
        "def hoga_ki_nahi(arr1,arr2):\n",
        "    sh1=arr1.shape\n",
        "    sh2=arr2.shape\n",
        "    flag=0\n",
        "    if(len(sh1)<len(sh2) or len(sh1)==len(sh2)):                       # smaller array is broadcasted over larger array so we check its length\n",
        "        for i in range(1,(len(sh1)+1)):\n",
        "            if(sh1[-i]==sh2[-i] or sh1[-i]==1 or sh2[-i]==1 ):    # we compare shape tuple of 2 arrays in reverse order and check if elements are same or either of them is 1 which is required condition for broadcasting\n",
        "                flag=0                                         \n",
        "            else:\n",
        "                flag=1\n",
        "                break\n",
        "    else:\n",
        "        for i in range(1,(len(sh2)+1)):\n",
        "            if(sh1[-i]==sh2[-i] or sh1[-i]==1 or sh2[-i]==1 ):\n",
        "                 flag=0\n",
        "            else:\n",
        "                flag=1\n",
        "                break\n",
        "            \n",
        "    if(flag==1):\n",
        "        return(\"Nahi hoga\")\n",
        "    else:\n",
        "        return(\"Hoga\")\n",
        "                \n",
        "    \n",
        "    \n",
        "  "
      ],
      "execution_count": 0,
      "outputs": []
    },
    {
      "cell_type": "code",
      "metadata": {
        "id": "1tMNgIud_MUj",
        "colab_type": "code",
        "colab": {}
      },
      "source": [
        " # A different approach from error handling \n",
        "  \n",
        "  def broadcast(arr1,arr2):\n",
        "    try:\n",
        "        arr1+arr2                                                                            # trying to add both the arrays , it will generate an error if broadcasting is not possible else no error will be generated\n",
        "    except:\n",
        "        return(\"Nahi Hoga\")                                                            # If there is an error in performing above operation then it returns ' Nahi hoga '\n",
        "    else:\n",
        "        return(\"Hoga\")                                                               # Incase of no error it returns ' Hoga '\n",
        "      "
      ],
      "execution_count": 0,
      "outputs": []
    },
    {
      "cell_type": "markdown",
      "metadata": {
        "id": "KRaEEnR_zXSp",
        "colab_type": "text"
      },
      "source": [
        "   For testing the code first I created the array then tested both function for output and then tried to add both array to see if the output was correct"
      ]
    },
    {
      "cell_type": "code",
      "metadata": {
        "id": "BGp93pIEHsOG",
        "colab_type": "code",
        "colab": {}
      },
      "source": [
        "# Test your function here\n",
        "\n",
        "import numpy as np"
      ],
      "execution_count": 0,
      "outputs": []
    },
    {
      "cell_type": "code",
      "metadata": {
        "id": "jz_2U5LRH2xy",
        "colab_type": "code",
        "colab": {}
      },
      "source": [
        "a=np.arange(2).reshape(2,1)\n",
        "b=np.arange(8*4*3).reshape(8,4,3)"
      ],
      "execution_count": 0,
      "outputs": []
    },
    {
      "cell_type": "code",
      "metadata": {
        "id": "ien-7wJx1f3v",
        "colab_type": "code",
        "outputId": "801bad4d-b78b-4e6a-8c23-119922e19a4a",
        "colab": {
          "base_uri": "https://localhost:8080/",
          "height": 34
        }
      },
      "source": [
        "hoga_ki_nahi(a,b)"
      ],
      "execution_count": 0,
      "outputs": [
        {
          "output_type": "execute_result",
          "data": {
            "text/plain": [
              "'Nahi hoga'"
            ]
          },
          "metadata": {
            "tags": []
          },
          "execution_count": 5
        }
      ]
    },
    {
      "cell_type": "code",
      "metadata": {
        "id": "zRnN9LZbx8NU",
        "colab_type": "code",
        "outputId": "24b6c48e-e864-49ba-9b82-9d089281540c",
        "colab": {
          "base_uri": "https://localhost:8080/",
          "height": 34
        }
      },
      "source": [
        "broadcast(a,b)"
      ],
      "execution_count": 0,
      "outputs": [
        {
          "output_type": "execute_result",
          "data": {
            "text/plain": [
              "'Nahi Hoga'"
            ]
          },
          "metadata": {
            "tags": []
          },
          "execution_count": 6
        }
      ]
    },
    {
      "cell_type": "code",
      "metadata": {
        "id": "8oIcbvcA1jz1",
        "colab_type": "code",
        "outputId": "1117a1bc-1cb2-4db4-c581-87791c4148f3",
        "colab": {
          "base_uri": "https://localhost:8080/",
          "height": 163
        }
      },
      "source": [
        "# checking if the output was correct\n",
        "a+b"
      ],
      "execution_count": 0,
      "outputs": [
        {
          "output_type": "error",
          "ename": "ValueError",
          "evalue": "ignored",
          "traceback": [
            "\u001b[0;31m---------------------------------------------------------------------------\u001b[0m",
            "\u001b[0;31mValueError\u001b[0m                                Traceback (most recent call last)",
            "\u001b[0;32m<ipython-input-7-ca730b97bf8a>\u001b[0m in \u001b[0;36m<module>\u001b[0;34m()\u001b[0m\n\u001b[0;32m----> 1\u001b[0;31m \u001b[0ma\u001b[0m\u001b[0;34m+\u001b[0m\u001b[0mb\u001b[0m\u001b[0;34m\u001b[0m\u001b[0;34m\u001b[0m\u001b[0m\n\u001b[0m",
            "\u001b[0;31mValueError\u001b[0m: operands could not be broadcast together with shapes (2,1) (8,4,3) "
          ]
        }
      ]
    },
    {
      "cell_type": "code",
      "metadata": {
        "id": "T9-ktJih1q8H",
        "colab_type": "code",
        "colab": {}
      },
      "source": [
        "# checking for different arrays\n",
        "arr1=np.arange(2*3*5).reshape(2,3,5)\n",
        "arr2=np.arange(3*5).reshape(3,5)\n"
      ],
      "execution_count": 0,
      "outputs": []
    },
    {
      "cell_type": "code",
      "metadata": {
        "id": "dMY5eAPU17dm",
        "colab_type": "code",
        "outputId": "1b86865d-63d6-4245-919d-c991c1840b9d",
        "colab": {
          "base_uri": "https://localhost:8080/",
          "height": 34
        }
      },
      "source": [
        "# applying the function\n",
        " hoga_ki_nahi(arr1,arr2)"
      ],
      "execution_count": 0,
      "outputs": [
        {
          "output_type": "execute_result",
          "data": {
            "text/plain": [
              "'Hoga'"
            ]
          },
          "metadata": {
            "tags": []
          },
          "execution_count": 10
        }
      ]
    },
    {
      "cell_type": "code",
      "metadata": {
        "id": "5ZZwKy7GyOyE",
        "colab_type": "code",
        "outputId": "89068778-819c-44e9-fb45-42c8ac160692",
        "colab": {
          "base_uri": "https://localhost:8080/",
          "height": 34
        }
      },
      "source": [
        "broadcast(arr1,arr2)"
      ],
      "execution_count": 0,
      "outputs": [
        {
          "output_type": "execute_result",
          "data": {
            "text/plain": [
              "'Hoga'"
            ]
          },
          "metadata": {
            "tags": []
          },
          "execution_count": 11
        }
      ]
    },
    {
      "cell_type": "code",
      "metadata": {
        "id": "SbYdOdll2CoF",
        "colab_type": "code",
        "outputId": "92c170f1-c0a6-4a67-8012-2b1ab634e3ea",
        "colab": {
          "base_uri": "https://localhost:8080/",
          "height": 136
        }
      },
      "source": [
        "# checking if the output is correct\n",
        "arr1+arr2"
      ],
      "execution_count": 0,
      "outputs": [
        {
          "output_type": "execute_result",
          "data": {
            "text/plain": [
              "array([[[ 0,  2,  4,  6,  8],\n",
              "        [10, 12, 14, 16, 18],\n",
              "        [20, 22, 24, 26, 28]],\n",
              "\n",
              "       [[15, 17, 19, 21, 23],\n",
              "        [25, 27, 29, 31, 33],\n",
              "        [35, 37, 39, 41, 43]]])"
            ]
          },
          "metadata": {
            "tags": []
          },
          "execution_count": 12
        }
      ]
    },
    {
      "cell_type": "code",
      "metadata": {
        "id": "b_hkh1wJ2NYr",
        "colab_type": "code",
        "colab": {}
      },
      "source": [
        "# checking for different array\n",
        "x=np.arange(4)\n",
        "y=np.ones(5)\n"
      ],
      "execution_count": 0,
      "outputs": []
    },
    {
      "cell_type": "code",
      "metadata": {
        "id": "J_j4uYkt2xwJ",
        "colab_type": "code",
        "outputId": "b5c1b4b5-fd56-4057-c948-947ede8987f0",
        "colab": {
          "base_uri": "https://localhost:8080/",
          "height": 34
        }
      },
      "source": [
        "hoga_ki_nahi(x,y)"
      ],
      "execution_count": 0,
      "outputs": [
        {
          "output_type": "execute_result",
          "data": {
            "text/plain": [
              "'Nahi hoga'"
            ]
          },
          "metadata": {
            "tags": []
          },
          "execution_count": 14
        }
      ]
    },
    {
      "cell_type": "code",
      "metadata": {
        "id": "pazdBiNGyaIF",
        "colab_type": "code",
        "outputId": "c2c63717-61a5-47ae-aa1e-d458b8c4347b",
        "colab": {
          "base_uri": "https://localhost:8080/",
          "height": 34
        }
      },
      "source": [
        "broadcast(x,y)"
      ],
      "execution_count": 0,
      "outputs": [
        {
          "output_type": "execute_result",
          "data": {
            "text/plain": [
              "'Nahi Hoga'"
            ]
          },
          "metadata": {
            "tags": []
          },
          "execution_count": 15
        }
      ]
    },
    {
      "cell_type": "code",
      "metadata": {
        "id": "5NL4aje620xN",
        "colab_type": "code",
        "outputId": "1d56abbd-49a5-49c0-f827-f1670851ffa4",
        "colab": {
          "base_uri": "https://localhost:8080/",
          "height": 163
        }
      },
      "source": [
        "# checking output\n",
        "x+y"
      ],
      "execution_count": 0,
      "outputs": [
        {
          "output_type": "error",
          "ename": "ValueError",
          "evalue": "ignored",
          "traceback": [
            "\u001b[0;31m---------------------------------------------------------------------------\u001b[0m",
            "\u001b[0;31mValueError\u001b[0m                                Traceback (most recent call last)",
            "\u001b[0;32m<ipython-input-16-259706549f3d>\u001b[0m in \u001b[0;36m<module>\u001b[0;34m()\u001b[0m\n\u001b[0;32m----> 1\u001b[0;31m \u001b[0mx\u001b[0m\u001b[0;34m+\u001b[0m\u001b[0my\u001b[0m\u001b[0;34m\u001b[0m\u001b[0;34m\u001b[0m\u001b[0m\n\u001b[0m",
            "\u001b[0;31mValueError\u001b[0m: operands could not be broadcast together with shapes (4,) (5,) "
          ]
        }
      ]
    },
    {
      "cell_type": "code",
      "metadata": {
        "id": "kkdodC3B25cD",
        "colab_type": "code",
        "colab": {}
      },
      "source": [
        "x1=np.arange(4)\n",
        "x2=x1.reshape(4,1)\n",
        "\n"
      ],
      "execution_count": 0,
      "outputs": []
    },
    {
      "cell_type": "code",
      "metadata": {
        "id": "n64cMcMtylUn",
        "colab_type": "code",
        "outputId": "ef49a6bf-e9e2-4e1b-c475-767b3fe0b8cd",
        "colab": {
          "base_uri": "https://localhost:8080/",
          "height": 34
        }
      },
      "source": [
        "hoga_ki_nahi(x1,x2)"
      ],
      "execution_count": 0,
      "outputs": [
        {
          "output_type": "execute_result",
          "data": {
            "text/plain": [
              "'Hoga'"
            ]
          },
          "metadata": {
            "tags": []
          },
          "execution_count": 18
        }
      ]
    },
    {
      "cell_type": "code",
      "metadata": {
        "id": "b1caQerbyl8G",
        "colab_type": "code",
        "outputId": "519bf89a-d4d4-410e-e8ac-1b72e6b34632",
        "colab": {
          "base_uri": "https://localhost:8080/",
          "height": 34
        }
      },
      "source": [
        "broadcast(x1,x2)"
      ],
      "execution_count": 0,
      "outputs": [
        {
          "output_type": "execute_result",
          "data": {
            "text/plain": [
              "'Hoga'"
            ]
          },
          "metadata": {
            "tags": []
          },
          "execution_count": 19
        }
      ]
    },
    {
      "cell_type": "code",
      "metadata": {
        "id": "qOgq44tb3Hqh",
        "colab_type": "code",
        "outputId": "6f4828e3-bd74-4212-9494-c83fe042e141",
        "colab": {
          "base_uri": "https://localhost:8080/",
          "height": 85
        }
      },
      "source": [
        "# checking the output\n",
        "x1+x2"
      ],
      "execution_count": 0,
      "outputs": [
        {
          "output_type": "execute_result",
          "data": {
            "text/plain": [
              "array([[0, 1, 2, 3],\n",
              "       [1, 2, 3, 4],\n",
              "       [2, 3, 4, 5],\n",
              "       [3, 4, 5, 6]])"
            ]
          },
          "metadata": {
            "tags": []
          },
          "execution_count": 20
        }
      ]
    },
    {
      "cell_type": "code",
      "metadata": {
        "id": "Q9D14gU33Nwu",
        "colab_type": "code",
        "colab": {}
      },
      "source": [
        ""
      ],
      "execution_count": 0,
      "outputs": []
    }
  ]
}