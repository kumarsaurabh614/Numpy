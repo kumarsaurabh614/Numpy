{
  "nbformat": 4,
  "nbformat_minor": 0,
  "metadata": {
    "colab": {
      "name": "Saurabh Kumar - Linspace.ipynb",
      "provenance": [],
      "collapsed_sections": []
    },
    "kernelspec": {
      "name": "python3",
      "display_name": "Python 3"
    }
  },
  "cells": [
    {
      "cell_type": "code",
      "metadata": {
        "id": "JumQhMY0tfDI",
        "colab_type": "code",
        "colab": {}
      },
      "source": [
        "def lin_space(lower,upper,size):\n",
        "    L=[]\n",
        "    if (size==1):\n",
        "        L.append(lower)\n",
        "        return L\n",
        "    elif (size==0):\n",
        "        return L\n",
        "    elif (size<0):\n",
        "        print(\"size input should be greater than or equal to zero\")\n",
        "    else:\n",
        "        \n",
        "        diff=(upper-lower)/(size-1)\n",
        "        for num in range(0,size):\n",
        "            L.append(lower+(num*diff))\n",
        "        return L"
      ],
      "execution_count": 0,
      "outputs": []
    },
    {
      "cell_type": "code",
      "metadata": {
        "id": "oMOHzoEQsxdR",
        "colab_type": "code",
        "outputId": "08d6d7f3-22f8-4f09-9902-e11f10ae6cc9",
        "colab": {
          "base_uri": "https://localhost:8080/",
          "height": 34
        }
      },
      "source": [
        "lin_space(1,1,5)"
      ],
      "execution_count": 0,
      "outputs": [
        {
          "output_type": "execute_result",
          "data": {
            "text/plain": [
              "[1.0, 1.0, 1.0, 1.0, 1.0]"
            ]
          },
          "metadata": {
            "tags": []
          },
          "execution_count": 3
        }
      ]
    },
    {
      "cell_type": "code",
      "metadata": {
        "id": "l8wQQj7ds2JB",
        "colab_type": "code",
        "colab": {}
      },
      "source": [
        ""
      ],
      "execution_count": 0,
      "outputs": []
    }
  ]
}