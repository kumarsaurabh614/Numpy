{
  "nbformat": 4,
  "nbformat_minor": 0,
  "metadata": {
    "colab": {
      "name": "Saurabh Kumar - Shape-and-dimension.ipynb",
      "provenance": [],
      "collapsed_sections": []
    },
    "kernelspec": {
      "name": "python3",
      "display_name": "Python 3"
    }
  },
  "cells": [
    {
      "cell_type": "markdown",
      "metadata": {
        "id": "KS3wCW3hFavq",
        "colab_type": "text"
      },
      "source": [
        "You have to write 2 functions after watching today's videos.\n",
        "\n",
        "1. The first function will accept a Numpy array and return it's shape.\n",
        "   Note:- You can't use the shape attribute\n",
        "   \n",
        "2. The second function will accept a Numpy array and return it's dimension.\n",
        "   Note:- You can't use the ndim attribute"
      ]
    },
    {
      "cell_type": "code",
      "metadata": {
        "id": "DYJsdRXk3s3d",
        "colab_type": "code",
        "colab": {}
      },
      "source": [
        "import numpy as np"
      ],
      "execution_count": 0,
      "outputs": []
    },
    {
      "cell_type": "code",
      "metadata": {
        "id": "FVX4V9FmF8rt",
        "colab_type": "code",
        "colab": {}
      },
      "source": [
        "# Write 1st function here\n",
        "def shapes(array):\n",
        "    if not type(array) == np.ndarray:\n",
        "        return []\n",
        "    return [len(array)]+shapes(array[0])"
      ],
      "execution_count": 0,
      "outputs": []
    },
    {
      "cell_type": "code",
      "metadata": {
        "id": "R0KWz8gqGAXW",
        "colab_type": "code",
        "colab": {}
      },
      "source": [
        "# Write 2nd function here\n",
        "def dimension(array):\n",
        "    return (len(array.shape))          #the dimension of an array is same as the number of elements in the shape of a array"
      ],
      "execution_count": 0,
      "outputs": []
    },
    {
      "cell_type": "code",
      "metadata": {
        "id": "VCSTSz2P3yMP",
        "colab_type": "code",
        "colab": {}
      },
      "source": [
        "# testing\n",
        "arr1=np.arange(0,40).reshape(2,10,2)"
      ],
      "execution_count": 0,
      "outputs": []
    },
    {
      "cell_type": "code",
      "metadata": {
        "id": "vcx0bdtGMbSm",
        "colab_type": "code",
        "outputId": "6633f734-a438-443a-bafb-676bb8b9bf92",
        "colab": {
          "base_uri": "https://localhost:8080/",
          "height": 34
        }
      },
      "source": [
        "shapes(arr1)"
      ],
      "execution_count": 0,
      "outputs": [
        {
          "output_type": "execute_result",
          "data": {
            "text/plain": [
              "[2, 10, 2]"
            ]
          },
          "metadata": {
            "tags": []
          },
          "execution_count": 6
        }
      ]
    },
    {
      "cell_type": "code",
      "metadata": {
        "id": "nK_G6KWhMcSl",
        "colab_type": "code",
        "outputId": "15510aa1-f0de-446a-8d89-b3c94a4c3178",
        "colab": {
          "base_uri": "https://localhost:8080/",
          "height": 34
        }
      },
      "source": [
        "dimension(arr1)"
      ],
      "execution_count": 0,
      "outputs": [
        {
          "output_type": "execute_result",
          "data": {
            "text/plain": [
              "3"
            ]
          },
          "metadata": {
            "tags": []
          },
          "execution_count": 7
        }
      ]
    },
    {
      "cell_type": "code",
      "metadata": {
        "id": "Ya0IGeF_Mjf0",
        "colab_type": "code",
        "outputId": "2f62219b-3668-4ed2-a0cb-e02459c49266",
        "colab": {
          "base_uri": "https://localhost:8080/",
          "height": 34
        }
      },
      "source": [
        "# testing it with built in features\n",
        "arr1.shape"
      ],
      "execution_count": 0,
      "outputs": [
        {
          "output_type": "execute_result",
          "data": {
            "text/plain": [
              "(2, 10, 2)"
            ]
          },
          "metadata": {
            "tags": []
          },
          "execution_count": 8
        }
      ]
    },
    {
      "cell_type": "code",
      "metadata": {
        "id": "BySOr-i2Mq6L",
        "colab_type": "code",
        "outputId": "0b37ce63-03be-43be-a0b6-04f1349d07f1",
        "colab": {
          "base_uri": "https://localhost:8080/",
          "height": 34
        }
      },
      "source": [
        "arr1.ndim"
      ],
      "execution_count": 0,
      "outputs": [
        {
          "output_type": "execute_result",
          "data": {
            "text/plain": [
              "3"
            ]
          },
          "metadata": {
            "tags": []
          },
          "execution_count": 9
        }
      ]
    },
    {
      "cell_type": "code",
      "metadata": {
        "id": "jo_e4o7lMtqA",
        "colab_type": "code",
        "colab": {}
      },
      "source": [
        ""
      ],
      "execution_count": 0,
      "outputs": []
    }
  ]
}